{
 "cells": [
  {
   "cell_type": "code",
   "execution_count": 1,
   "metadata": {},
   "outputs": [],
   "source": [
    "import numpy as np\n",
    "\n",
    "import matplotlib.pyplot as plt\n",
    "plt.rcParams['text.usetex'] = True\n",
    "\n",
    "import particle.literals\n",
    "from particle import width_to_lifetime, lifetime_to_width # MeV <-> ns\n",
    "import pandas as pd"
   ]
  },
  {
   "cell_type": "code",
   "execution_count": 2,
   "metadata": {},
   "outputs": [],
   "source": [
    "speed_light = 29.98 #cm/ns\n",
    "hbar = lifetime_to_width(1)/1000 # GeV ns\n",
    "\n",
    "me = particle.literals.e_minus.mass/1000\n",
    "mmu = particle.literals.mu_minus.mass/1000\n",
    "mtau = particle.literals.tau_minus.mass/1000\n",
    "mUpsilon = particle.literals.Upsilon_1S.mass/1000\n",
    "widthUpsilon = particle.literals.Upsilon_1S.width/1000\n",
    "mUpsilon2S = particle.literals.Upsilon_2S.mass/1000\n",
    "widthUpsilon2S = particle.literals.Upsilon_2S.width/1000\n",
    "mUpsilon3S = particle.literals.Upsilon_3S.mass/1000\n",
    "widthUpsilon3S = particle.literals.Upsilon_3S.width/1000\n",
    "mUpsilon4S = particle.literals.Upsilon_4S.mass/1000\n",
    "widthUpsilon4S = particle.literals.Upsilon_4S.width/1000\n",
    "mJpsi = particle.literals.Jpsi_1S.mass/1000\n",
    "widthJpsi = particle.literals.Jpsi_1S.width/1000\n",
    "alpha_em = 1/137\n",
    "fUpsilon = 0.659\n",
    "fUpsilon2S = 0.481\n",
    "fUpsilon3S = 0.405\n",
    "fJpsi = 0.4104 # 2005.01845\n",
    "\n",
    "fa = mtau"
   ]
  },
  {
   "cell_type": "code",
   "execution_count": 3,
   "metadata": {},
   "outputs": [],
   "source": [
    "corr_Jpsi = 0.92\n",
    "corr_2S = 0.21\n",
    "corr_3S = 0.16\n",
    "corr_4S = 3e-5"
   ]
  },
  {
   "cell_type": "code",
   "execution_count": 4,
   "metadata": {},
   "outputs": [],
   "source": [
    "def Cgammagamma(ma, mlep, s, cgg0=0):\n",
    "    def f(x):\n",
    "        if x >= 1:\n",
    "            return np.arcsin(x**-0.5)\n",
    "        else:\n",
    "            return np.pi/2+0.5j*np.log((1+(1-x)**0.5)/(1-(1-x)**0.5))\n",
    "    B3 = lambda x, y: 1+x*y/(x-y)*(f(x)**2-f(y)**2)\n",
    "    c = cgg0\n",
    "    for m in mlep:\n",
    "        c += B3(4*m**2/ma**2, 4*m**2/s)/mlep\n",
    "    return -c*alpha_em/np.pi"
   ]
  },
  {
   "cell_type": "code",
   "execution_count": 5,
   "metadata": {},
   "outputs": [],
   "source": [
    "def Gamma_phi(mphi: float, cgg0=0) -> list[float]:\n",
    "    def f(x):\n",
    "        if x >= 1:\n",
    "            return np.arcsin(x**-0.5)\n",
    "        else:\n",
    "            return np.pi/2+0.5j*np.log((1+(1-x)**0.5)/(1-(1-x)**0.5))\n",
    "    B1 = lambda x: 1-x*f(x)**2\n",
    "    res = [alpha_em**2*mphi**3/(fa**2*(4*np.pi)**3)*abs(cgg0+B1(4*mtau**2/mphi**2)+B1(4*me**2/mphi**2)+B1(4*mmu**2/mphi**2))**2, 0, 0, 0]\n",
    "    #res = [4*np.pi*a_em**2/Lambda**2*mphi**3*abs(B1(4*mtau**2/mphi**2)+0*B1(4*mmu**2/mphi**2)+0*B1(4*me**2/mphi**2))**2/(16*np.pi)**2, 0, 0, 0]\n",
    "    if mphi > 2*me:\n",
    "        res[1] = mphi * me**2/(8*np.pi*fa**2)*np.sqrt(1-4*me**2/mphi**2)\n",
    "    if mphi > 2*mmu:\n",
    "        res[2] = mphi * mmu**2/(8*np.pi*fa**2)*np.sqrt(1-4*mmu**2/mphi**2)\n",
    "    if mphi > 2*mtau:\n",
    "        res[3] = mphi * mtau**2/(8*np.pi*fa**2)*np.sqrt(1-4*mtau**2/mphi**2)\n",
    "    return res\n",
    "\n",
    "def BR_gg(ma, cgg0=0):\n",
    "    gamma = Gamma_phi(ma, cgg0)\n",
    "    return gamma[0]/sum(gamma)\n",
    "\n",
    "def BR_ee(ma, cgg0=0):\n",
    "    gamma = Gamma_phi(ma, cgg)\n",
    "    return gamma[1]/sum(gamma)\n",
    "\n",
    "def BR_mumu(ma, cgg0=0):\n",
    "    gamma = Gamma_phi(ma, cgg0)\n",
    "    return gamma[2]/sum(gamma)\n",
    "\n",
    "def BR_tautau(ma, cgg0=0):\n",
    "    gamma = Gamma_phi(ma, cgg0)\n",
    "    return gamma[3]/sum(gamma)"
   ]
  },
  {
   "cell_type": "code",
   "execution_count": 6,
   "metadata": {},
   "outputs": [],
   "source": [
    "def BR_Upsilon_gammaPS(ma, s, cgg0=0):\n",
    "    return alpha_em/(216*widthUpsilon)*mUpsilon*fUpsilon**2*abs(Cgammagamma(ma, [mtau], s, cgg0))**2*(1-ma**2/mUpsilon**2)**3"
   ]
  },
  {
   "cell_type": "code",
   "execution_count": 7,
   "metadata": {},
   "outputs": [],
   "source": [
    "def BR_Jpsi_gammaPS(ma, cgg0=0):\n",
    "    return 4*alpha_em/(216*widthUpsilon)*mUpsilon*fUpsilon**2*abs(Cgammagamma(ma, [mtau], mJpsi**2, cgg0))**2*(1-ma**2/mUpsilon**2)**3"
   ]
  },
  {
   "cell_type": "code",
   "execution_count": 8,
   "metadata": {},
   "outputs": [],
   "source": [
    "ma_list = [10**x for x in np.linspace(-3, np.log10(mUpsilon3S), 200)]\n",
    "BR_list = [BR_Upsilon_gammaPS(m, mUpsilon**2) for m in ma_list]"
   ]
  },
  {
   "cell_type": "code",
   "execution_count": 9,
   "metadata": {},
   "outputs": [],
   "source": [
    "Belle_tautau = pd.read_csv('Belle_Upsilon_tautau.csv')\n",
    "BaBar_tautau = pd.read_csv('BaBar_Upsilon3S.csv').sort_values(by='x')\n",
    "BaBar_tautau = BaBar_tautau.loc[BaBar_tautau[' y'] > 0]\n",
    "BaBar_3S_gammainv = pd.read_csv('BaBar_3S_gammainv.csv')\n",
    "BaBar_1S_gammainv = pd.read_csv('BaBar_1S_gammainv.csv')\n",
    "BESIII_3gamma = pd.read_csv('BESIII_Jpsi_3gamma.csv')\n",
    "BESIII_gammainv = pd.read_csv('BESIII_gammainv.csv')"
   ]
  },
  {
   "cell_type": "code",
   "execution_count": 10,
   "metadata": {},
   "outputs": [
    {
     "name": "stderr",
     "output_type": "stream",
     "text": [
      "/tmp/ipykernel_15708/1277902717.py:1: DeprecationWarning: Conversion of an array with ndim > 0 to a scalar is deprecated, and will error in future. Ensure you extract a single element from your array before performing this operation. (Deprecated NumPy 1.25.)\n",
      "  limits_Belle_tau = [float((Belle_tautau[' y'][i]/(BR_Upsilon_gammaPS(Belle_tautau['x'][i], mUpsilon**2)))**0.5) for i in range(len(Belle_tautau['x']))]\n",
      "/tmp/ipykernel_15708/1277902717.py:3: DeprecationWarning: Conversion of an array with ndim > 0 to a scalar is deprecated, and will error in future. Ensure you extract a single element from your array before performing this operation. (Deprecated NumPy 1.25.)\n",
      "  limits_BESIII_Jpsi = [float((BESIII_3gamma['gagamma_GeV-1'][i]/Cgammagamma(BESIII_3gamma['ma_GeV'][i], [mtau], mJpsi**2))**0.5) for i in BESIII_3gamma.index]\n",
      "/tmp/ipykernel_15708/1277902717.py:5: DeprecationWarning: Conversion of an array with ndim > 0 to a scalar is deprecated, and will error in future. Ensure you extract a single element from your array before performing this operation. (Deprecated NumPy 1.25.)\n",
      "  limits_BaBar_tautau = [float((BaBar_tautau[' y'][i]/(BR_tautau(BaBar_tautau['x'][i])*BR_Upsilon_gammaPS(BaBar_tautau['x'][i], mUpsilon3S**2)*(1+1/corr_3S)))**0.5) for i in BaBar_tautau.index]\n",
      "/tmp/ipykernel_15708/1277902717.py:5: RuntimeWarning: invalid value encountered in sqrt\n",
      "  limits_BaBar_tautau = [float((BaBar_tautau[' y'][i]/(BR_tautau(BaBar_tautau['x'][i])*BR_Upsilon_gammaPS(BaBar_tautau['x'][i], mUpsilon3S**2)*(1+1/corr_3S)))**0.5) for i in BaBar_tautau.index]\n",
      "/tmp/ipykernel_15708/1277902717.py:7: DeprecationWarning: Conversion of an array with ndim > 0 to a scalar is deprecated, and will error in future. Ensure you extract a single element from your array before performing this operation. (Deprecated NumPy 1.25.)\n",
      "  limits_BESIII_gammainv = [float((BESIII_gammainv['BR'][i]/(BR_Jpsi_gammaPS(BESIII_gammainv['ma_GeV'][i])*(1+1/corr_Jpsi)))**0.5) for i in BESIII_gammainv.index]\n",
      "/tmp/ipykernel_15708/1277902717.py:9: DeprecationWarning: Conversion of an array with ndim > 0 to a scalar is deprecated, and will error in future. Ensure you extract a single element from your array before performing this operation. (Deprecated NumPy 1.25.)\n",
      "  limits_BaBar_3S_gammainv = [float((BaBar_3S_gammainv['BR'][i]/(BR_Upsilon_gammaPS(BaBar_3S_gammainv['ma_GeV'][i], mUpsilon3S**2)*(1+1/corr_3S)))**0.5) for i in BaBar_3S_gammainv.index]\n",
      "/tmp/ipykernel_15708/1277902717.py:10: DeprecationWarning: Conversion of an array with ndim > 0 to a scalar is deprecated, and will error in future. Ensure you extract a single element from your array before performing this operation. (Deprecated NumPy 1.25.)\n",
      "  limits_BaBar_1S_gammainv = [float((BaBar_1S_gammainv['BR'][i]/(BR_Upsilon_gammaPS(BaBar_1S_gammainv['ma_GeV'][i], mUpsilon**2)))**0.5) for i in BaBar_1S_gammainv.index]\n"
     ]
    }
   ],
   "source": [
    "limits_Belle_tau = [float((Belle_tautau[' y'][i]/(BR_Upsilon_gammaPS(Belle_tautau['x'][i], mUpsilon**2)))**0.5) for i in range(len(Belle_tautau['x']))]\n",
    "\n",
    "limits_BESIII_Jpsi = [float((BESIII_3gamma['gagamma_GeV-1'][i]/Cgammagamma(BESIII_3gamma['ma_GeV'][i], [mtau], mJpsi**2))**0.5) for i in BESIII_3gamma.index]\n",
    "\n",
    "limits_BaBar_tautau = [float((BaBar_tautau[' y'][i]/(BR_tautau(BaBar_tautau['x'][i])*BR_Upsilon_gammaPS(BaBar_tautau['x'][i], mUpsilon3S**2)*(1+1/corr_3S)))**0.5) for i in BaBar_tautau.index]\n",
    "\n",
    "limits_BESIII_gammainv = [float((BESIII_gammainv['BR'][i]/(BR_Jpsi_gammaPS(BESIII_gammainv['ma_GeV'][i])*(1+1/corr_Jpsi)))**0.5) for i in BESIII_gammainv.index]\n",
    "\n",
    "limits_BaBar_3S_gammainv = [float((BaBar_3S_gammainv['BR'][i]/(BR_Upsilon_gammaPS(BaBar_3S_gammainv['ma_GeV'][i], mUpsilon3S**2)*(1+1/corr_3S)))**0.5) for i in BaBar_3S_gammainv.index]\n",
    "limits_BaBar_1S_gammainv = [float((BaBar_1S_gammainv['BR'][i]/(BR_Upsilon_gammaPS(BaBar_1S_gammainv['ma_GeV'][i], mUpsilon**2)))**0.5) for i in BaBar_1S_gammainv.index]"
   ]
  },
  {
   "cell_type": "code",
   "execution_count": 11,
   "metadata": {},
   "outputs": [],
   "source": [
    "def f(x):\n",
    "    if x >= 1:\n",
    "        return np.arcsin(x**-0.5)\n",
    "    else:\n",
    "        return np.pi/2+0.5j*np.log((1+(1-x)**0.5)/(1-(1-x)**0.5))\n",
    "B1 = lambda x: 1-x*f(x)**2\n",
    "\n",
    "def Gamma_photons(ma):\n",
    "    return alpha_em**2*ma**3/(fa**2*(4*np.pi)**3)*abs(B1(4*mtau**2/ma**2))**2\n",
    "\n",
    "def coupling_length_PS(length, ma, boosted=True):\n",
    "    s=mJpsi**2\n",
    "    if boosted:\n",
    "        boost = (s+ma**2)/(2*np.sqrt(s)*ma)\n",
    "    else:\n",
    "        boost = 1\n",
    "    return np.sqrt((4*np.pi)**3*mtau**2*hbar*speed_light/(alpha_em**2*np.abs(B1(4*mtau**2/ma**2))**2* ma**3*length)*boost)/(mtau*1e-3)\n",
    "\n",
    "def coupling_length_PS_BelleII(length, ma, boosted=True):\n",
    "    s=10.58**2\n",
    "    if boosted:\n",
    "        boost = (s+ma**2)/(2*np.sqrt(s)*ma)\n",
    "    else:\n",
    "        boost = 1\n",
    "    return np.sqrt((4*np.pi)**3*mtau**2*hbar*speed_light/(alpha_em**2*np.abs(B1(4*mtau**2/ma**2))**2* ma**3*length)*boost)/(mtau*1e-3)"
   ]
  },
  {
   "cell_type": "code",
   "execution_count": 12,
   "metadata": {},
   "outputs": [],
   "source": [
    "for i, ma in enumerate(BESIII_3gamma['ma_GeV']):\n",
    "    limits_BESIII_Jpsi[i] = max(limits_BESIII_Jpsi[i], coupling_length_PS(700, ma, True))"
   ]
  },
  {
   "cell_type": "code",
   "execution_count": 13,
   "metadata": {},
   "outputs": [],
   "source": [
    "for i, ma in enumerate(BESIII_gammainv['ma_GeV']):\n",
    "    if limits_BESIII_gammainv[i] > coupling_length_PS(700, ma, True):\n",
    "        limits_BESIII_gammainv = limits_BESIII_gammainv[:i]\n",
    "        break"
   ]
  },
  {
   "cell_type": "code",
   "execution_count": 14,
   "metadata": {},
   "outputs": [
    {
     "data": {
      "text/plain": [
       "(0.001, 10)"
      ]
     },
     "execution_count": 14,
     "metadata": {},
     "output_type": "execute_result"
    },
    {
     "data": {
      "image/png": "[encoded data removed]",
      "text/plain": [
       "<Figure size 800x600 with 1 Axes>"
      ]
     },
     "metadata": {},
     "output_type": "display_data"
    }
   ],
   "source": [
    "plt.figure(figsize=(8, 6))\n",
    "plt.loglog(Belle_tautau['x'], limits_Belle_tau, label=r'Belle $\\Upsilon(1S)\\to \\gamma a(\\to \\tau^+\\tau^-)$')\n",
    "plt.loglog(BaBar_tautau['x'], limits_BaBar_tautau, label=r'BaBar $\\Upsilon(3S)\\to \\gamma a(\\to \\tau^+\\tau^-)$')\n",
    "plt.loglog(BESIII_3gamma['ma_GeV'], limits_BESIII_Jpsi, label=r'BESIII $J/\\psi\\to\\gamma a(\\to \\gamma\\gamma)$')\n",
    "plt.loglog(BESIII_gammainv['ma_GeV'][:len(limits_BESIII_gammainv)], limits_BESIII_gammainv, label=r'BESIII $J/\\psi\\to\\gamma +$ inv')\n",
    "plt.loglog(BaBar_3S_gammainv['ma_GeV'], limits_BaBar_3S_gammainv, label=r'BaBar $\\Upsilon(3S)\\to\\gamma +$ inv')\n",
    "plt.loglog(BaBar_1S_gammainv['ma_GeV'], limits_BaBar_1S_gammainv, label=r'BaBar $\\Upsilon(1S)\\to\\gamma +$ inv')\n",
    "plt.loglog(BESIII_gammainv['ma_GeV'][:len(limits_BESIII_gammainv)], [coupling_length_PS(700, ma, True) for ma in BESIII_gammainv['ma_GeV'][:len(limits_BESIII_gammainv)]], c='tab:red')\n",
    "plt.xlim(1e-1, 20)\n",
    "#plt.ylim(1e1, 1e5)\n",
    "plt.xlabel(r'$m_a$ [GeV]', fontsize=14)\n",
    "plt.ylabel(r'$|g_{\\tau}|$', fontsize=14)\n",
    "plt.legend(fontsize=12)\n",
    "plt.ylim(1e-2, 1e3)\n",
    "plt.xlim(1e-3, 10)\n",
    "#plt.savefig('quarkonia.png')"
   ]
  },
  {
   "cell_type": "code",
   "execution_count": 15,
   "metadata": {},
   "outputs": [],
   "source": [
    "pd.DataFrame({'ma_GeV': Belle_tautau['x'], 'gtau': limits_Belle_tau}).to_csv('../data/quarkonia/Belle_Y1Stautau.csv', index=False)\n",
    "pd.DataFrame({'ma_GeV': BaBar_tautau['x'], 'gtau': limits_BaBar_tautau}).to_csv('../data/quarkonia/BaBar_Y3Stautau.csv', index=False)\n",
    "pd.DataFrame({'ma_GeV': BESIII_3gamma['ma_GeV'], 'gtau': limits_BESIII_Jpsi}).to_csv('../data/quarkonia/BESIII_3gamma.csv', index=False)\n",
    "pd.DataFrame({'ma_GeV': BESIII_gammainv['ma_GeV'][:len(limits_BESIII_gammainv)], 'gtau':limits_BESIII_gammainv, 'gtau_7m': [coupling_length_PS(700, ma, True) for ma in BESIII_gammainv['ma_GeV'][:len(limits_BESIII_gammainv)]]}).to_csv('../data/quarkonia/BESIII_gammainv.csv', index=False)"
   ]
  },
  {
   "cell_type": "code",
   "execution_count": null,
   "metadata": {},
   "outputs": [],
   "source": []
  }
 ],
 "metadata": {
  "kernelspec": {
   "display_name": "Python 3 (ipykernel)",
   "language": "python",
   "name": "python3"
  },
  "language_info": {
   "codemirror_mode": {
    "name": "ipython",
    "version": 3
   },
   "file_extension": ".py",
   "mimetype": "text/x-python",
   "name": "python",
   "nbconvert_exporter": "python",
   "pygments_lexer": "ipython3",
   "version": "3.12.4"
  }
 },
 "nbformat": 4,
 "nbformat_minor": 4
}
