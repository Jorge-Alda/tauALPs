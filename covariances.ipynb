{
 "cells": [
  {
   "cell_type": "code",
   "execution_count": 2,
   "metadata": {},
   "outputs": [],
   "source": [
    "import numpy as np"
   ]
  },
  {
   "cell_type": "markdown",
   "metadata": {},
   "source": [
    "## Combination of $(g_\\tau/g_\\mu)_\\tau$, $(g_\\tau/g_e)_\\tau$, $(g_\\tau/g_\\mu)_\\pi$, $(g_\\tau/g_\\mu)_K$ with old data"
   ]
  },
  {
   "cell_type": "code",
   "execution_count": 24,
   "metadata": {},
   "outputs": [],
   "source": [
    "# [(gtau/gmu)_lep, (gtau/ge)_lep, (gtau/gmu)_pi, (gtau/gmu)_K]\n",
    "g_central = np.array([1.0010, 1.0029, 0.9961, 0.9860])\n",
    "g_uncert = np.array([0.0015, 0.0015, 0.0027, 0.0070])\n",
    "g_corr = np.matrix([[1, 0.53, 0.24, 0.11], [0.53, 1, 0.26, 0.10], [0.24, 0.26, 1, 0.06], [0.11, 0.10, 0.06, 1]])"
   ]
  },
  {
   "cell_type": "code",
   "execution_count": 25,
   "metadata": {},
   "outputs": [
    {
     "name": "stdout",
     "output_type": "stream",
     "text": [
      "1.001178115493421 \\pm 0.0012818826885998144\n"
     ]
    }
   ],
   "source": [
    "cov = np.diag(g_uncert) @ g_corr @ np.diag(g_uncert)\n",
    "var = 1/np.sum(cov.I)\n",
    "std = var**0.5\n",
    "val = np.sum(cov.I @ g_central)*var\n",
    "print(f\"{val} \\pm {std}\")"
   ]
  },
  {
   "cell_type": "markdown",
   "metadata": {},
   "source": [
    "## Combination of $(g_\\tau/g_\\mu)_\\tau$, $(g_\\tau/g_\\mu)_\\pi$, $(g_\\tau/g_\\mu)_K$ with old data"
   ]
  },
  {
   "cell_type": "code",
   "execution_count": 22,
   "metadata": {},
   "outputs": [],
   "source": [
    "# [(gtau/gmu)_lep, (gtau/ge)_lep, (gtau/gmu)_pi, (gtau/gmu)_K]\n",
    "g_central = np.array([1.0010,  0.9961, 0.9860])\n",
    "g_uncert = np.array([0.0015,  0.0027, 0.0070])\n",
    "g_corr = np.matrix([[1, 0.24, 0.11], [0.24, 1, 0.06], [0.11, 0.06, 1]])"
   ]
  },
  {
   "cell_type": "code",
   "execution_count": 23,
   "metadata": {},
   "outputs": [
    {
     "name": "stdout",
     "output_type": "stream",
     "text": [
      "0.9999183423799373 \\pm 0.001420902132778513\n"
     ]
    }
   ],
   "source": [
    "cov = np.diag(g_uncert) @ g_corr @ np.diag(g_uncert)\n",
    "var = 1/np.sum(cov.I)\n",
    "std = var**0.5\n",
    "val = np.sum(cov.I @ g_central)*var\n",
    "print(f\"{val} \\pm {std}\")"
   ]
  },
  {
   "cell_type": "markdown",
   "metadata": {},
   "source": [
    "## Combination of $(g_\\tau/g_\\mu)_\\tau$, $(g_\\tau/g_e)_\\tau$, $(g_\\tau/g_\\mu)_\\pi$, $(g_\\tau/g_\\mu)_K$ with new data\n",
    "\n",
    "Section 12.2 of HFLAV report 2206.07501"
   ]
  },
  {
   "cell_type": "code",
   "execution_count": 26,
   "metadata": {},
   "outputs": [],
   "source": [
    "# [(gtau/gmu)_lep, (gtau/ge)_lep, (gtau/gmu)_pi, (gtau/gmu)_K]\n",
    "g_central = np.array([1.0009, 1.0027, 0.9959, 0.9855])\n",
    "g_uncert = np.array([0.0014, 0.0014, 0.0038, 0.0075])\n",
    "g_corr = np.matrix([[1, 0.51, 0.16, 0.12], [0.51, 1, 0.18, 0.11], [0.16, 0.18, 1, 0.07], [0.12, 0.11, 0.07, 1]])"
   ]
  },
  {
   "cell_type": "code",
   "execution_count": 27,
   "metadata": {},
   "outputs": [
    {
     "name": "stdout",
     "output_type": "stream",
     "text": [
      "1.0014939721034068 \\pm 0.0012064319532496801\n"
     ]
    }
   ],
   "source": [
    "cov = np.diag(g_uncert) @ g_corr @ np.diag(g_uncert)\n",
    "var = 1/np.sum(cov.I)\n",
    "std = var**0.5\n",
    "val = np.sum(cov.I @ g_central)*var\n",
    "print(f\"{val} \\pm {std}\")"
   ]
  },
  {
   "cell_type": "markdown",
   "metadata": {},
   "source": [
    "### Combination of $\\tau$/$\\mu$"
   ]
  },
  {
   "cell_type": "code",
   "execution_count": 3,
   "metadata": {},
   "outputs": [],
   "source": [
    "# [(gtau/gmu)_lep, (gtau/ge)_lep, (gtau/gmu)_pi, (gtau/gmu)_K]\n",
    "g_central = np.array([1.0009, 0.9959, 0.9855])\n",
    "g_uncert = np.array([0.0014, 0.0038, 0.0075])\n",
    "g_corr = np.matrix([[1, 0.16, 0.12], [0.16, 1, 0.07], [0.12, 0.07, 1]])"
   ]
  },
  {
   "cell_type": "code",
   "execution_count": 4,
   "metadata": {},
   "outputs": [
    {
     "name": "stdout",
     "output_type": "stream",
     "text": [
      "1.000373385827415 \\pm 0.0013677274040676507\n"
     ]
    }
   ],
   "source": [
    "cov = np.diag(g_uncert) @ g_corr @ np.diag(g_uncert)\n",
    "var = 1/np.sum(cov.I)\n",
    "std = var**0.5\n",
    "val = np.sum(cov.I @ g_central)*var\n",
    "print(f\"{val} \\pm {std}\")"
   ]
  },
  {
   "cell_type": "markdown",
   "metadata": {},
   "source": [
    "as in (333)"
   ]
  },
  {
   "cell_type": "code",
   "execution_count": null,
   "metadata": {},
   "outputs": [],
   "source": []
  }
 ],
 "metadata": {
  "kernelspec": {
   "display_name": "Python 3 (ipykernel)",
   "language": "python",
   "name": "python3"
  },
  "language_info": {
   "codemirror_mode": {
    "name": "ipython",
    "version": 3
   },
   "file_extension": ".py",
   "mimetype": "text/x-python",
   "name": "python",
   "nbconvert_exporter": "python",
   "pygments_lexer": "ipython3",
   "version": "3.11.5"
  }
 },
 "nbformat": 4,
 "nbformat_minor": 2
}
