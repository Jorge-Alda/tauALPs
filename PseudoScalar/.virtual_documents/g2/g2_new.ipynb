import matplotlib.pyplot as plt
import numpy as np
import particle.literals as pl
from scipy.integrate import quad, nquad

plt.rcParams.update({
    "text.usetex": True,
    #"font.family": "Helvetica"
})

from scipy.special import spence
li2 = lambda x: spence(1-x)


me = pl.e_minus.mass / 1000
mmu = pl.mu_minus.mass / 1000
mtau = pl.tau_minus.mass / 1000

a_em = 1/137
s2W = 0.23121

fa = 1000





def alep_1loop_GPP(ma, mlep):
    return -mlep**4/(8*np.pi**2*fa**2*ma**2)*quad(lambda z: z**3/(1-z+z**2*mlep**2/ma**2), 0, 1)[0]

def alep_1loop_GN(ma, mlep):
    x = ma**2/mlep**2+1e-10j
    if x<100:
        return -mlep**2/(16*np.pi**2*fa**2)*(1+2*x+x*(1-x)*np.log(x)-2*x*(3-x)*np.sqrt(x/(4-x))*np.arccos(0.5*np.sqrt(x)))
    else:
        return -mlep**2/(16*np.pi**2*fa**2)*(np.log(x)-11/6)*2/x


plt.semilogx([10**x for x in np.linspace(-3, 3, 200)], [alep_1loop_GPP(10**x, mmu)  for x in np.linspace(-3, 3, 200)])
plt.semilogx([10**x for x in np.linspace(-3, 3, 200)], [alep_1loop_GN(10**x, mmu)  for x in np.linspace(-3, 3, 200)])





def alep_2loops_GPP(ma, mlep):
    return sum(a_em*mlep**2*mtau**2/(8*np.pi**3*fa**2*ma**2)*quad(lambda z: np.log(z*(1-z)*ma**2/mloop**2)/(z*(1-z)-mloop**2/ma**2), 0, 1)[0] for mloop in [mtau])

def alep_2loops_CKSS(ma, mlep):
    if ma < 2* mtau:
        beta = np.sqrt(4*mtau**2/ma**2-1)*1j
    else:
        beta = np.sqrt(1-4*mtau**2/ma**2)
    aplus = 0.5*ma**2/mtau**2*(1-beta)
    aminus = 1-0.5*ma**2/mtau**2*(1+beta)
    phi = np.real(ma**2*beta*(np.log(aplus)*np.log(aminus+1e-10j)-li2(aplus+1e-10j)-li2(aminus)+np.pi**2/6))
    return a_em*mlep**2*mtau**2/(4*np.pi**3*fa**2*ma**2)*phi/(ma**2-4*mtau**2)
    #return phi

def h2(x):
    if np.real(x) > 8:
        return np.log(x)+1.5
    x *= (1+1e-10j)
    return 1 - x/3 +x**2/6*np.log(x)+(2+x)/3*np.sqrt(x*(4-x))*np.arccos(0.5*np.sqrt(x))

def alep_2loops_GN(ma, mlep):
    xlep = ma**2/mlep**2+1e-10j
    atot = 0
    for mloop in [me, mmu, mtau]:
        xloop = ma**2/mloop**2+1e-10j
        F = lambda y, x: 1/(1-y)*(h2(x)-h2(x/y))
        atot -= a_em*mlep**2/(8*np.pi**3*fa**2)*quad(lambda z: F(z*(1-z)*xloop, xlep), 0, 1, complex_func=True)[0]
    return atot

def alep_2loops_BPTZ(ma, mlep):
    atot = 0
    for mloop in [me, mmu, mtau]:
        def f(x, y, z):
            u = ma**2/mlep**2
            v = ma**2/mloop**2
            return u*x/(u*(1-x)+u*v*x*y*z*(1-z)+v*z*(1-z)*x**2*(1-y)**2)
    atot += a_em*mlep**2/(8*np.pi**3*fa**2)*nquad(f, [[0,1], [0,1], [0,1]])[0]

def alep_gammaeff(ma, mlep, c0=0):
    Lam = 4*np.pi*fa
    return -mlep**2*a_em*3/(8*np.pi**3*fa**2)*(3+c0)*(np.log(Lam**2/mlep**2)-h2(ma**2/mlep**2))

def alep_gammaZeff(ma, mlep):
    Lam = 4*np.pi*fa
    c_gammaZ = -1.5/(s2W*(1-s2W))**0.5
    return -mlep**2*a_em*c_gammaZ*(1-4*s2W)/(8*np.pi**3*fa**2)*(np.log(Lam**2/mlep**2)-1.5)

def alep_lbl(ma, mlep):
    Lam = 4*np.pi*fa
    g_agg = 3*a_em/(np.pi*fa)
    return 3*a_em/np.pi*(0.25*mlep*g_agg/np.pi)**2*np.log(Lam/ma)**2

def alep_lbl_tau(ma, mlep):
    Lam = 4*np.pi*fa
    g_agg = a_em/(np.pi*fa)
    return 3*a_em/np.pi*(0.25*mlep*g_agg/np.pi)**2*np.log(Lam/ma)**2

def only_real(z):
    if abs(np.imag(z)) > 1e-3:
        return float('nan')
    else:
        return z


plt.loglog([10**x for x in np.linspace(-3, 3, 200)], [alep_2loops_GPP(10**x, mmu)  for x in np.linspace(-3, 3, 200)])
plt.loglog([10**x for x in np.linspace(-3, 3, 200)], [alep_2loops_CKSS(10**x, mmu)  for x in np.linspace(-3, 3, 200)])
plt.loglog([10**x for x in np.linspace(-3, 3, 200)], [alep_2loops_GN(10**x, mmu)  for x in np.linspace(-3, 3, 200)])
plt.xlim(1e-3, 1e3)


def phi(ma):
    if ma < 2* mtau:
        beta = np.sqrt(4*mtau**2/ma**2-1)*1j
    else:
        beta = np.sqrt(1-4*mtau**2/ma**2)
    aplus = 0.5*ma**2/mtau**2*(1-beta)
    aminus = 1-0.5*ma**2/mtau**2*(1+beta)
    return np.real(ma**2*beta*(np.log(aplus)*np.log(aminus+1e-10j)-li2(aplus+1e-10j)-li2(aminus)+np.pi**2/6))

def phi_approx(ma):
    if ma < 2* mtau:
        beta = np.sqrt(4*mtau**2/ma**2-1)*1j
    else:
        beta = np.sqrt(1-4*mtau**2/ma**2)
    aplus = 0.5*ma**2/mtau**2*(1-beta)
    aminus = 1-0.5*ma**2/mtau**2*(1+beta)
    #return np.real(ma**2*(-li2(aplus+1e-10j)-li2(aminus)+np.pi**2/6))
    return li2(aplus+1e-5j)+li2(aminus)


ae = [np.real(alep_1loop_GN(10**x, me)+alep_2loops_CKSS(10**x, me)+alep_gammaeff(10**x, me)+alep_lbl(10**x, me)) for x in np.linspace(-3, 3, 200)]
amu = [np.real(alep_1loop_GN(10**x, mmu)+alep_2loops_CKSS(10**x, mmu)+alep_gammaeff(10**x, mmu)+alep_lbl(10**x, mmu)) for x in np.linspace(-3, 3, 200)]
atau = [np.real(alep_1loop_GN(10**x, mtau)+alep_2loops_CKSS(10**x, mtau)+alep_gammaeff(10**x, mtau)+alep_lbl(10**x, mtau)) for x in np.linspace(-3, 3, 200)]


plt.loglog([10**x for x in np.linspace(-3, 3, 200)], [np.abs(alep_1loop_GN(10**x, mmu)) for x in np.linspace(-3, 3, 200)], label='1 loop, Yukawa-like couplings only')
plt.loglog([10**x for x in np.linspace(-3, 3, 200)], [np.abs(alep_2loops_CKSS(10**x, mmu)) for x in np.linspace(-3, 3, 200)], label = '2 loop Barr-Zee')
plt.loglog([10**x for x in np.linspace(-3, 3, 200)], [np.abs(alep_gammaeff(10**x, mmu)) for x in np.linspace(-3, 3, 200)], label = '1 loop effective photon coupling')
#plt.semilogx([10**x for x in np.linspace(-3, 3, 200)], [alep_gammaZeff(10**x, mmu) for x in np.linspace(-3, 3, 200)], label = '1 loop Z')
plt.loglog([10**x for x in np.linspace(-3, 3, 200)], [np.abs(alep_lbl(10**x, mmu)) for x in np.linspace(-3, 3, 200)], label='2 loop light-by-light')
plt.loglog([10**x for x in np.linspace(-3, 3, 200)], [np.abs(sum(alep(10**x, mmu) for alep in [alep_1loop_GN, alep_2loops_CKSS, alep_gammaeff, alep_lbl])) for x in np.linspace(-3, 3, 200)], label='Total', c='k', lw=2)
plt.xlim(1e-3, 1e3)
plt.xlabel(r'$m_a$ [Gev]', fontsize=16)
plt.ylabel(r'$|\Delta a_\mu|\times f_a^2/|c_\ell|^2$ [TeV$^{2}$]', fontsize=16)
plt.legend()



plt.semilogx([10**x for x in np.linspace(-3, 3, 200)], [alep_1loop_GPP(10**x, mmu) for x in np.linspace(-3, 3, 200)], label='1 loop Yukawa')
plt.semilogx([10**x for x in np.linspace(-3, 3, 200)], [alep_2loops_GPP(10**x, mmu) for x in np.linspace(-3, 3, 200)], label = '2 loop Barr-Zee')
plt.semilogx([10**x for x in np.linspace(-3, 3, 200)], [alep_gammaeff(10**x, mmu) for x in np.linspace(-3, 3, 200)], label = '1 loop photon')
plt.semilogx([10**x for x in np.linspace(-3, 3, 200)], [alep_gammaZeff(10**x, mmu) for x in np.linspace(-3, 3, 200)], label = '1 loop Z')
plt.semilogx([10**x for x in np.linspace(-3, 3, 200)], [alep_lbl(10**x, mmu) for x in np.linspace(-3, 3, 200)], label='2 loop lbl')
plt.semilogx([10**x for x in np.linspace(-3, 3, 200)], [sum(alep(10**x, mmu) for alep in [alep_1loop_GPP, alep_2loops_GPP, alep_gammaeff, alep_gammaZeff, alep_lbl]) for x in np.linspace(-3, 3, 200)], label='Total', c='k', lw=2)
plt.ylim(-1e-11, 1e-11)


plt.loglog([10**x for x in np.linspace(-3, 3, 200)], [(1e-12/np.abs(a))**0.5 for a in ae], label=r'$(g-2)_e$')
plt.fill_between([10**x for x in np.linspace(-3, 3, 200)], [(1e-12/np.abs(a))**0.5 for a in ae], 1e4, alpha=0.2)
#plt.loglog([10**x for x in np.linspace(-3, 3, 200)], [only_real(((2.49e-9+3*0.48e-9)/a)**0.5) for a in amu], label=r'$(g-2)_\mu$')
#plt.fill_between([10**x for x in np.linspace(-3, 3, 200)], [only_real(((2.49e-9+3*0.48e-9)/a)**0.5) for a in amu], 1e4, alpha=0.2)
plt.loglog([10**x for x in np.linspace(-3, 3, 200)], [(1.8e-3/np.abs(a))**0.5 for a in atau], label=r'$(g-2)_\tau$ ATLAS')
plt.fill_between([10**x for x in np.linspace(-3, 3, 200)], [(1.8e-3/np.abs(a))**0.5 for a in atau], 1e4, alpha=0.2)
plt.loglog([10**x for x in np.linspace(-3, 3, 200)], [(3.2e-3/np.abs(a))**0.5 for a in atau], label=r'$(g-2)_\tau$ CMS')
plt.fill_between([10**x for x in np.linspace(-3, 3, 200)], [(3.2e-3/np.abs(a))**0.5 for a in atau], 1e4, alpha=0.2)
plt.loglog([10**x for x in np.linspace(-3, 3, 200)], [(1e-6/np.abs(a))**0.5 for a in atau], label=r'$(g-2)_\tau$ Belle II', ls='dashed')
plt.fill_between([1e-3, 1e3], [1000*np.sqrt(8*np.pi/3)/mtau, 1000*np.sqrt(8*np.pi/3)/mtau], [2e4, 2e4],  hatch='/', color='none', edgecolor='k', alpha=0.3)
plt.xlim(1e-3, 1e3)
plt.ylim(1, 1e4)
plt.xlabel(r'$m_a$ [Gev]', fontsize=16)
plt.ylabel(r'$|c_\ell|/f_a$ [TeV$^{-1}$]', fontsize=16)
plt.legend()


plt.fill_between([1e-3, 1e3], [1000*np.sqrt(8*np.pi/3)/mtau, 1000*np.sqrt(8*np.pi/3)/mtau], [2e4, 2e4],  hatch='/', color='none', edgecolor='k', alpha=0.3)
plt.fill_between([10**x for x in np.linspace(-3, 3, 200)], [only_real(((2.49e-9+0.48e-9)/alep_lbl_tau(10**x, mmu))**0.5) for x in np.linspace(-3, 3, 200)], [only_real(((2.49e-9-0.48e-9)/alep_lbl_tau(10**x, mmu))**0.5) for x in np.linspace(-3, 3, 200)], color='tab:blue', alpha=0.2)
plt.fill_between([10**x for x in np.linspace(-3, 3, 200)], [only_real(((2.49e-9+2*0.48e-9)/alep_lbl_tau(10**x, mmu))**0.5) for x in np.linspace(-3, 3, 200)], [only_real(((2.49e-9-2*0.48e-9)/alep_lbl_tau(10**x, mmu))**0.5) for x in np.linspace(-3, 3, 200)], color='tab:blue', alpha=0.2)
plt.fill_between([10**x for x in np.linspace(-3, 3, 200)], [only_real(((2.49e-9+3*0.48e-9)/alep_lbl_tau(10**x, mmu))**0.5) for x in np.linspace(-3, 3, 200)], [only_real(((2.49e-9-3*0.48e-9)/alep_lbl_tau(10**x, mmu))**0.5) for x in np.linspace(-3, 3, 200)], color='tab:blue', alpha=0.2)
plt.loglog([10**x for x in np.linspace(-3, 3, 200)], [only_real(((2.49e-9)/alep_lbl_tau(10**x, mmu))**0.5) for x in np.linspace(-3, 3, 200)], label=r'$(g-2)_\mu$', lw=2)
plt.xlim(1e-3, 1e3)
plt.ylim(1e3, 2e4)
plt.xlabel(r'$m_a$ [Gev]', fontsize=16)
plt.ylabel(r'$|c_\tau|/f_a$ [TeV$^{-1}$]', fontsize=16)


ae_5p = [np.real(alep_1loop_GN(10**x, me)+alep_2loops_CKSS(10**x, me)+alep_gammaeff(10**x, me, 5)+alep_lbl(10**x, me)) for x in np.linspace(-3, 3, 200)]
amu_5p = [np.real(alep_1loop_GN(10**x, mmu)+alep_2loops_CKSS(10**x, mmu)+alep_gammaeff(10**x, mmu, 5)+alep_lbl(10**x, mmu)) for x in np.linspace(-3, 3, 200)]
atau_5p = [np.real(alep_1loop_GN(10**x, mtau)+alep_2loops_CKSS(10**x, mtau)+alep_gammaeff(10**x, mtau, 5)+alep_lbl(10**x, mtau)) for x in np.linspace(-3, 3, 200)]

ae_5m = [np.real(alep_1loop_GN(10**x, me)+alep_2loops_CKSS(10**x, me)+alep_gammaeff(10**x, me, -5)+alep_lbl(10**x, me)) for x in np.linspace(-3, 3, 200)]
amu_5m = [np.real(alep_1loop_GN(10**x, mmu)+alep_2loops_CKSS(10**x, mmu)+alep_gammaeff(10**x, mmu, -5)+alep_lbl(10**x, mmu)) for x in np.linspace(-3, 3, 200)]
atau_5m = [np.real(alep_1loop_GN(10**x, mtau)+alep_2loops_CKSS(10**x, mtau)+alep_gammaeff(10**x, mtau, -5)+alep_lbl(10**x, mtau)) for x in np.linspace(-3, 3, 200)]


plt.loglog([10**x for x in np.linspace(-3, 3, 200)], [(1e-12/np.abs(a))**0.5 for a in ae], label=r'$(g-2)_e$', lw=2.5)
plt.loglog([10**x for x in np.linspace(-3, 3, 200)], [(1e-12/np.abs(a))**0.5 for a in ae_5p], ls='dotted', c='tab:blue', lw=0.8)
plt.loglog([10**x for x in np.linspace(-3, 3, 200)], [(1e-12/np.abs(a))**0.5 for a in ae_5m], ls='dashed', c='tab:blue', lw=0.8)
plt.loglog([10**x for x in np.linspace(-3, 3, 200)], [(1.8e-3/np.abs(a))**0.5 for a in atau], label=r'$(g-2)_\tau$ ATLAS', lw=2.5)
plt.loglog([10**x for x in np.linspace(-3, 3, 200)], [(1.8e-3/np.abs(a))**0.5 for a in atau_5p], ls='dotted', c='tab:orange', lw=0.8)
plt.loglog([10**x for x in np.linspace(-3, 3, 200)], [(1.8e-3/np.abs(a))**0.5 for a in atau_5m], ls='dashed', c='tab:orange', lw=0.8)
plt.loglog([10**x for x in np.linspace(-3, 3, 200)], [(3.2e-3/np.abs(a))**0.5 for a in atau], label=r'$(g-2)_\tau$ CMS', lw=2.5)
plt.loglog([10**x for x in np.linspace(-3, 3, 200)], [(3.2e-3/np.abs(a))**0.5 for a in atau_5p], ls='dotted', c='tab:green', lw=0.8)
plt.loglog([10**x for x in np.linspace(-3, 3, 200)], [(3.2e-3/np.abs(a))**0.5 for a in atau_5m], ls='dashed', c='tab:green', lw=0.8)
plt.loglog([10**x for x in np.linspace(-3, 3, 200)], [(1e-6/np.abs(a))**0.5 for a in atau], label=r'$(g-2)_\tau$ Belle II', lw=2.5)
plt.loglog([10**x for x in np.linspace(-3, 3, 200)], [(1e-6/np.abs(a))**0.5 for a in atau_5p], ls='dotted', c='tab:red', lw=0.8)
plt.loglog([10**x for x in np.linspace(-3, 3, 200)], [(1e-6/np.abs(a))**0.5 for a in atau_5m], ls='dashed', c='tab:red', lw=0.8)
plt.loglog([10**x for x in np.linspace(-3, 3, 200)], [only_real(((2.49e-9+3*0.48e-9)/a)**0.5) for a in amu], label=r'$(g-2)_\mu$', lw=2.5)
plt.loglog([10**x for x in np.linspace(-3, 3, 200)], [only_real(((2.49e-9+3*0.48e-9)/a)**0.5) for a in amu_5p], ls='dotted', c='tab:purple', lw=0.8)
plt.loglog([10**x for x in np.linspace(-3, 3, 200)], [only_real(((2.49e-9+3*0.48e-9)/a)**0.5) for a in amu_5m], ls='dashed', c='tab:purple', lw=0.8)
plt.fill_between([1e-3, 1e3], [1000*np.sqrt(8*np.pi/3)/mtau, 1000*np.sqrt(8*np.pi/3)/mtau], [2e4, 2e4],  hatch='/', color='none', edgecolor='k', alpha=0.3)
plt.xlim(1e-3, 1e3)
plt.ylim(1, 1e4)
plt.xlabel(r'$m_a$ [Gev]', fontsize=16)
plt.ylabel(r'$|c_\ell|/f_a$ [TeV$^{-1}$]', fontsize=16)
plt.legend()



