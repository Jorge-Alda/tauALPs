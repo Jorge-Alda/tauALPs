{
 "cells": [
  {
   "cell_type": "code",
   "execution_count": 1,
   "metadata": {},
   "outputs": [],
   "source": [
    "import numpy as np\n",
    "import matplotlib.pyplot as plt\n",
    "plt.rcParams.update({\n",
    "    \"text.usetex\": True,\n",
    "    #\"font.family\": \"Helvetica\"\n",
    "})\n",
    "\n",
    "log = lambda x: np.log(x+0j)\n",
    "sqrt = lambda x: np.sqrt(x+0j)"
   ]
  },
  {
   "cell_type": "code",
   "execution_count": 2,
   "metadata": {},
   "outputs": [],
   "source": [
    "# Input data from PDG 2023\n",
    "GF = 1.1663788e-5 #GeV-2\n",
    "mZ = 91.1876 #GeV\n",
    "mtau = 1.77686 #GeV\n",
    "t = mtau**2/mZ**2\n",
    "prefactor = 2**0.5/4*mZ**2*GF #(g/4cW)^2\n",
    "s2W = 0.22339 #\\sin^2\\theta_W at tree level (=1-mW^2/mZ^2)\n",
    "s2Weff = 0.23155 #\\sin^2\\theta_W with 1-loop corrections\n",
    "c2Weff = 1-s2Weff\n",
    "c = 1-4*s2W\n",
    "aem = 1/137.035999180\n",
    "aem_mZ = 1/127.951\n",
    "\n",
    "Gammatau_SM = 0.08377 #GeV\n",
    "Gammahad_SM = 1.7408565063298496 #GeV\n",
    "Gammatau_exp = 0.08408 #GeV\n",
    "Gammatau_err = 0.00022 #GeV\n",
    "# arXiv:1912.02067 Table B.13\n",
    "Rtau_exp = 20.7644\n",
    "Rtau_err = 0.0448\n",
    "\n",
    "Lambda = 1000 #GeV\n",
    "mu = 4*np.pi*Lambda"
   ]
  },
  {
   "cell_type": "code",
   "execution_count": 3,
   "metadata": {},
   "outputs": [],
   "source": [
    "F1Afin: complex = mtau**2/(32*np.pi**2*Lambda**2)*(1+log(-mu**2/mZ**2))\n",
    "\n",
    "F1Vfin = c*F1Afin\n",
    "\n",
    "def Ftaufin(mphi) -> complex:\n",
    "    return -mtau**2/(64*np.pi**2*Lambda**2*(mtau**2-mphi**2)**2)*(3*mtau**4-4*mphi**2*mtau**2+mphi**4+2*mphi**2*(mphi**2-mtau**2)*log(mtau**2/mphi**2)-2*(mtau**2-mphi**2)**2*log(mtau**2/mu**2))\n",
    "\n",
    "def F1Dfin(mphi: float) -> complex:\n",
    "    def h(x):\n",
    "        if x < 0.5:\n",
    "            return (1-4*x**2)**0.5*log((1+(1+4*x**2)**0.5)/(2*x))\n",
    "        else:\n",
    "            return -(4*x**2-1)**0.5*np.arctan(4*x**2-1)\n",
    "    return c*mtau**2/(32*np.pi**2*Lambda**2*mZ**2*mtau**2)*((mphi**4-2*mphi**2*mtau**2)*log(mphi**2/mtau**2)+2*mtau**4*log(-mtau**2/mZ**2)-2*mphi**2*(mtau**2+mphi**2*h(mtau/mphi)))\n",
    "\n",
    "deltaFA = lambda mphi: F1Afin + Ftaufin(mphi)\n",
    "deltaFV = lambda mphi: F1Vfin + Ftaufin(mphi)"
   ]
  },
  {
   "cell_type": "code",
   "execution_count": 4,
   "metadata": {},
   "outputs": [],
   "source": [
    "Fphim = -mtau**2*(1+log(mu**2/mtau**2))/(4*np.pi**2*Lambda**2)\n",
    "\n",
    "def Ftaum(mphi):\n",
    "    return mtau**2*(mphi**2/(mphi**2-mtau**2)*log(mtau**2/mphi**2)-1+log(mtau**2/mu**2))/(16*np.pi**2*Lambda**2)"
   ]
  },
  {
   "cell_type": "code",
   "execution_count": 5,
   "metadata": {},
   "outputs": [],
   "source": [
    "def deltaGamma_loop(mphi: float) -> float:\n",
    "    return prefactor*mZ/(6*np.pi)*(1-4*t)**0.5*(c*deltaFV(mphi).real*(1+2*t)-deltaFA(mphi).real*(1-4*t)+3*c*F1Dfin(mphi).imag+0.5*(2*Ftaum(mphi)-Fphim)/(1-4*t))"
   ]
  },
  {
   "cell_type": "code",
   "execution_count": 8,
   "metadata": {},
   "outputs": [],
   "source": [
    "def Rtau(ctau, mphi):\n",
    "    return (Gammahad_SM/(Gammatau_SM + ctau**2*deltaGamma_loop(mphi))).real"
   ]
  },
  {
   "cell_type": "code",
   "execution_count": 12,
   "metadata": {},
   "outputs": [],
   "source": [
    "Atau_SM = 0.1468 # PDG Table 10.5 (A_e = A_tau)\n",
    "Atau_exp = 0.143\n",
    "Atau_err = 0.004"
   ]
  },
  {
   "cell_type": "code",
   "execution_count": 13,
   "metadata": {},
   "outputs": [],
   "source": [
    "def Atau_phi(mphi):\n",
    "    return 2*(c**2-1)/(c**2+1)**2*(c*deltaFA(mphi).real+deltaFV(mphi).real)-3*(c**-1)/(c**2+1)**2/(1-mtau**2/mZ**2)*F1Dfin(mphi).imag"
   ]
  },
  {
   "cell_type": "code",
   "execution_count": 14,
   "metadata": {},
   "outputs": [],
   "source": [
    "def Atau(ctau, mphi):\n",
    "    return Atau_SM + ctau**2*Atau_phi(mphi)"
   ]
  },
  {
   "cell_type": "code",
   "execution_count": 18,
   "metadata": {},
   "outputs": [],
   "source": [
    "def chi2(ctau, mphi):\n",
    "    return (Atau(ctau, mphi)-Atau_exp)**2/Atau_err**2 + (Rtau(ctau, mphi)-Rtau_exp)**2/Rtau_err**2"
   ]
  },
  {
   "cell_type": "code",
   "execution_count": 23,
   "metadata": {},
   "outputs": [],
   "source": [
    "import scipy.optimize"
   ]
  },
  {
   "cell_type": "code",
   "execution_count": 25,
   "metadata": {},
   "outputs": [],
   "source": [
    "m = scipy.optimize.minimize_scalar(lambda ctau: chi2(ctau, 1))"
   ]
  },
  {
   "cell_type": "code",
   "execution_count": 26,
   "metadata": {},
   "outputs": [
    {
     "data": {
      "text/plain": [
       "19.557752144462448"
      ]
     },
     "execution_count": 26,
     "metadata": {},
     "output_type": "execute_result"
    }
   ],
   "source": [
    "m.x"
   ]
  },
  {
   "cell_type": "code",
   "execution_count": 27,
   "metadata": {},
   "outputs": [],
   "source": [
    "mphi_list = [10**x for x in np.linspace(-3, 1, 500)]\n",
    "ctau_optim = [scipy.optimize.minimize_scalar(lambda ctau: chi2(ctau, mphi)).x for mphi in mphi_list]"
   ]
  },
  {
   "cell_type": "code",
   "execution_count": 30,
   "metadata": {},
   "outputs": [
    {
     "data": {
      "text/plain": [
       "Text(0, 0.5, '$|c_\\\\tau|$')"
      ]
     },
     "execution_count": 30,
     "metadata": {},
     "output_type": "execute_result"
    },
    {
     "data": {
      "image/png": "[encoded data removed]",
      "text/plain": [
       "<Figure size 640x480 with 1 Axes>"
      ]
     },
     "metadata": {},
     "output_type": "display_data"
    }
   ],
   "source": [
    "plt.loglog(mphi_list, ctau_optim)\n",
    "plt.xlim(1e-3, 10)\n",
    "plt.ylim(1e-1, 3e4)\n",
    "plt.xlabel(r'$m_\\phi$ [GeV]', fontsize=14)\n",
    "plt.ylabel(r'$|c_\\tau|$', fontsize=14)"
   ]
  },
  {
   "cell_type": "markdown",
   "metadata": {},
   "source": [
    "This is the best fit of $c_\\tau$ to $R_\\tau$ and $A_\\tau$ for each value of $m_\\phi$"
   ]
  },
  {
   "cell_type": "code",
   "execution_count": null,
   "metadata": {},
   "outputs": [],
   "source": []
  }
 ],
 "metadata": {
  "kernelspec": {
   "display_name": "usr",
   "language": "python",
   "name": "python3"
  },
  "language_info": {
   "codemirror_mode": {
    "name": "ipython",
    "version": 3
   },
   "file_extension": ".py",
   "mimetype": "text/x-python",
   "name": "python",
   "nbconvert_exporter": "python",
   "pygments_lexer": "ipython3",
   "version": "3.11.5"
  },
  "orig_nbformat": 4
 },
 "nbformat": 4,
 "nbformat_minor": 2
}
